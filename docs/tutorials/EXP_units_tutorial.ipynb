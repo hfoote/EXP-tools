{
 "cells": [
  {
   "cell_type": "markdown",
   "id": "ce00205b",
   "metadata": {},
   "source": [
    "# Working with external simulation unit systems in EXP\n",
    "\n",
    "This tutorial shows an example of how to use astropy and EXPtools to translate between systems of units used by external simulations and EXP's G=1 units."
   ]
  },
  {
   "cell_type": "code",
   "execution_count": null,
   "id": "5d0a6026",
   "metadata": {},
   "outputs": [
    {
     "ename": "ModuleNotFoundError",
     "evalue": "No module named 'pyEXP'",
     "output_type": "error",
     "traceback": [
      "\u001b[0;31m---------------------------------------------------------------------------\u001b[0m",
      "\u001b[0;31mModuleNotFoundError\u001b[0m                       Traceback (most recent call last)",
      "Cell \u001b[0;32mIn[4], line 5\u001b[0m\n\u001b[1;32m      3\u001b[0m \u001b[38;5;28;01mimport\u001b[39;00m\u001b[38;5;250m \u001b[39m\u001b[38;5;21;01mastropy\u001b[39;00m\u001b[38;5;21;01m.\u001b[39;00m\u001b[38;5;21;01munits\u001b[39;00m\u001b[38;5;250m \u001b[39m\u001b[38;5;28;01mas\u001b[39;00m\u001b[38;5;250m \u001b[39m\u001b[38;5;21;01mu\u001b[39;00m\n\u001b[1;32m      4\u001b[0m \u001b[38;5;28;01mfrom\u001b[39;00m\u001b[38;5;250m \u001b[39m\u001b[38;5;21;01mastropy\u001b[39;00m\u001b[38;5;21;01m.\u001b[39;00m\u001b[38;5;21;01mconstants\u001b[39;00m\u001b[38;5;250m \u001b[39m\u001b[38;5;28;01mimport\u001b[39;00m G\n\u001b[0;32m----> 5\u001b[0m \u001b[38;5;28;01mfrom\u001b[39;00m\u001b[38;5;250m \u001b[39m\u001b[38;5;21;01mEXPtools\u001b[39;00m\u001b[38;5;21;01m.\u001b[39;00m\u001b[38;5;21;01mutils\u001b[39;00m\u001b[38;5;21;01m.\u001b[39;00m\u001b[38;5;21;01munits\u001b[39;00m\u001b[38;5;250m \u001b[39m\u001b[38;5;28;01mimport\u001b[39;00m define_exp_units\n",
      "File \u001b[0;32m~/opt/anaconda3/envs/py311/lib/python3.11/site-packages/EXPtools/__init__.py:1\u001b[0m\n\u001b[0;32m----> 1\u001b[0m \u001b[38;5;28;01mfrom\u001b[39;00m\u001b[38;5;250m \u001b[39m\u001b[38;5;21;01m.\u001b[39;00m\u001b[38;5;250m \u001b[39m\u001b[38;5;28;01mimport\u001b[39;00m visuals\n\u001b[1;32m      2\u001b[0m \u001b[38;5;28;01mfrom\u001b[39;00m\u001b[38;5;250m \u001b[39m\u001b[38;5;21;01m.\u001b[39;00m\u001b[38;5;250m \u001b[39m\u001b[38;5;28;01mimport\u001b[39;00m basis_builder\n\u001b[1;32m      3\u001b[0m \u001b[38;5;28;01mfrom\u001b[39;00m\u001b[38;5;250m \u001b[39m\u001b[38;5;21;01m.\u001b[39;00m\u001b[38;5;250m \u001b[39m\u001b[38;5;28;01mimport\u001b[39;00m utils\n",
      "File \u001b[0;32m~/opt/anaconda3/envs/py311/lib/python3.11/site-packages/EXPtools/visuals/__init__.py:2\u001b[0m\n\u001b[1;32m      1\u001b[0m \u001b[38;5;28;01mfrom\u001b[39;00m\u001b[38;5;250m \u001b[39m\u001b[38;5;21;01m.\u001b[39;00m\u001b[38;5;21;01mprojections\u001b[39;00m\u001b[38;5;250m \u001b[39m\u001b[38;5;28;01mimport\u001b[39;00m mollweide\n\u001b[0;32m----> 2\u001b[0m \u001b[38;5;28;01mfrom\u001b[39;00m\u001b[38;5;250m \u001b[39m\u001b[38;5;21;01m.\u001b[39;00m\u001b[38;5;21;01mvisualize\u001b[39;00m\u001b[38;5;250m \u001b[39m\u001b[38;5;28;01mimport\u001b[39;00m make_basis_plot\n\u001b[1;32m      3\u001b[0m \u001b[38;5;28;01mfrom\u001b[39;00m\u001b[38;5;250m \u001b[39m\u001b[38;5;21;01m.\u001b[39;00m\u001b[38;5;21;01mvisualize\u001b[39;00m\u001b[38;5;250m \u001b[39m\u001b[38;5;28;01mimport\u001b[39;00m find_field\n\u001b[1;32m      4\u001b[0m \u001b[38;5;28;01mfrom\u001b[39;00m\u001b[38;5;250m \u001b[39m\u001b[38;5;21;01m.\u001b[39;00m\u001b[38;5;21;01mvisualize\u001b[39;00m\u001b[38;5;250m \u001b[39m\u001b[38;5;28;01mimport\u001b[39;00m spherical_avg_prop\n",
      "File \u001b[0;32m~/opt/anaconda3/envs/py311/lib/python3.11/site-packages/EXPtools/visuals/visualize.py:1\u001b[0m\n\u001b[0;32m----> 1\u001b[0m \u001b[38;5;28;01mimport\u001b[39;00m\u001b[38;5;250m \u001b[39m\u001b[38;5;21;01mos\u001b[39;00m\u001b[38;5;241m,\u001b[39m\u001b[38;5;250m \u001b[39m\u001b[38;5;21;01msys\u001b[39;00m\u001b[38;5;241m,\u001b[39m\u001b[38;5;250m \u001b[39m\u001b[38;5;21;01mpickle\u001b[39;00m\u001b[38;5;241m,\u001b[39m\u001b[38;5;250m \u001b[39m\u001b[38;5;21;01mpyEXP\u001b[39;00m\n\u001b[1;32m      2\u001b[0m \u001b[38;5;28;01mimport\u001b[39;00m\u001b[38;5;250m \u001b[39m\u001b[38;5;21;01mnumpy\u001b[39;00m\u001b[38;5;250m \u001b[39m\u001b[38;5;28;01mas\u001b[39;00m\u001b[38;5;250m \u001b[39m\u001b[38;5;21;01mnp\u001b[39;00m\n\u001b[1;32m      3\u001b[0m \u001b[38;5;28;01mimport\u001b[39;00m\u001b[38;5;250m \u001b[39m\u001b[38;5;21;01mmatplotlib\u001b[39;00m\u001b[38;5;21;01m.\u001b[39;00m\u001b[38;5;21;01mpyplot\u001b[39;00m\u001b[38;5;250m \u001b[39m\u001b[38;5;28;01mas\u001b[39;00m\u001b[38;5;250m \u001b[39m\u001b[38;5;21;01mplt\u001b[39;00m\n",
      "\u001b[0;31mModuleNotFoundError\u001b[0m: No module named 'pyEXP'"
     ]
    }
   ],
   "source": [
    "# imports\n",
    "import numpy as np\n",
    "import astropy.units as u\n",
    "from astropy.constants import G\n",
    "import pyEXP\n",
    "from EXPtools.utils.units import define_exp_units"
   ]
  },
  {
   "cell_type": "markdown",
   "id": "8737214d",
   "metadata": {},
   "source": [
    "## Gadget\n",
    "\n",
    "For this tutorial, we'll use a halo from the [Symphony simulation suite](https://symphony-simulations.readthedocs.io/en/latest/index.html#), which was run with Gadget-2. The data is available here: https://drive.google.com/file/d/1zOBgkGy3k8dwfPOldCEdNxLAHdieiXTG/view?usp=sharing \n",
    "\n",
    "Note that this snapshot has been translated into a numpy binary so that it is more compact. We assume you will have your own routines for extracting particle data from a snapshot. "
   ]
  },
  {
   "cell_type": "code",
   "execution_count": null,
   "id": "1ae6fa52",
   "metadata": {},
   "outputs": [],
   "source": [
    "# load the particle data\n",
    "particle_data = np.load('symphony_Halo364_235')"
   ]
  },
  {
   "cell_type": "markdown",
   "id": "d98a972b",
   "metadata": {},
   "source": [
    "By default, the Gadget unit system is $10^{10} M_\\odot$, $kpc$, and $km/s$. This means that the time unit in Gadget is $kpc/(km/s)$. Let's see what G is in this unit system:"
   ]
  },
  {
   "cell_type": "code",
   "execution_count": 3,
   "id": "dc616847",
   "metadata": {},
   "outputs": [
    {
     "name": "stdout",
     "output_type": "stream",
     "text": [
      "43009.1727003628 1e-10 km2 kpc / (solMass s2)\n"
     ]
    }
   ],
   "source": [
    "# G has dimensions of length * velocity^2 / mass \n",
    "gad_G = G.to(u.kpc * u.km**2/u.s**2 / (1e10*u.Msun))\n",
    "print(gad_G)"
   ]
  },
  {
   "cell_type": "markdown",
   "id": "0ae8baa0",
   "metadata": {},
   "source": [
    "EXP must work in a unit system in which G=1, but we can choose any unit system which fits that criteria. There are two common choices when working with an external simulation:\n",
    "- Keep the length and mass units from the simualtion, and scale the time unit such that G is 1\n",
    "- Use \"virial units\" in which the length mas mass units are the virial radius and virial mass of the halo you're expanding\n",
    "We'll expand our example halo with both choices in turn:"
   ]
  },
  {
   "cell_type": "markdown",
   "id": "1596f22f",
   "metadata": {},
   "source": [
    "### Keep the simulation length and mass units"
   ]
  },
  {
   "cell_type": "markdown",
   "id": "d248277f",
   "metadata": {},
   "source": [
    "### Use virial units"
   ]
  },
  {
   "cell_type": "markdown",
   "id": "bbde72b9",
   "metadata": {},
   "source": []
  }
 ],
 "metadata": {
  "kernelspec": {
   "display_name": "py311",
   "language": "python",
   "name": "python3"
  },
  "language_info": {
   "codemirror_mode": {
    "name": "ipython",
    "version": 3
   },
   "file_extension": ".py",
   "mimetype": "text/x-python",
   "name": "python",
   "nbconvert_exporter": "python",
   "pygments_lexer": "ipython3",
   "version": "3.11.4"
  }
 },
 "nbformat": 4,
 "nbformat_minor": 5
}
